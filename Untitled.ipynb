{
 "cells": [
  {
   "cell_type": "code",
   "execution_count": 2,
   "metadata": {},
   "outputs": [
    {
     "name": "stderr",
     "output_type": "stream",
     "text": [
      "Using TensorFlow backend.\n"
     ]
    }
   ],
   "source": [
    "import numpy as np \n",
    "import matplotlib.pyplot as plt\n",
    "plt.style.use('fivethirtyeight')\n",
    "import pandas as pd\n",
    "from sklearn.preprocessing import MinMaxScaler\n",
    "from keras.models import Sequential\n",
    "from keras.layers import Dense, LSTM, Dropout, GRU, Bidirectional\n",
    "import math\n",
    "from sklearn.metrics import mean_squared_error\n"
   ]
  },
  {
   "cell_type": "code",
   "execution_count": 3,
   "metadata": {},
   "outputs": [
    {
     "data": {
      "text/html": [
       "<div>\n",
       "<style scoped>\n",
       "    .dataframe tbody tr th:only-of-type {\n",
       "        vertical-align: middle;\n",
       "    }\n",
       "\n",
       "    .dataframe tbody tr th {\n",
       "        vertical-align: top;\n",
       "    }\n",
       "\n",
       "    .dataframe thead th {\n",
       "        text-align: right;\n",
       "    }\n",
       "</style>\n",
       "<table border=\"1\" class=\"dataframe\">\n",
       "  <thead>\n",
       "    <tr style=\"text-align: right;\">\n",
       "      <th></th>\n",
       "      <th>Open</th>\n",
       "      <th>High</th>\n",
       "      <th>Low</th>\n",
       "      <th>Close</th>\n",
       "      <th>Adj Close</th>\n",
       "      <th>Volume</th>\n",
       "    </tr>\n",
       "    <tr>\n",
       "      <th>Date</th>\n",
       "      <th></th>\n",
       "      <th></th>\n",
       "      <th></th>\n",
       "      <th></th>\n",
       "      <th></th>\n",
       "      <th></th>\n",
       "    </tr>\n",
       "  </thead>\n",
       "  <tbody>\n",
       "    <tr>\n",
       "      <th>1990-01-02</th>\n",
       "      <td>23.68750</td>\n",
       "      <td>24.53125</td>\n",
       "      <td>23.62500</td>\n",
       "      <td>24.50000</td>\n",
       "      <td>6.590755</td>\n",
       "      <td>7041600</td>\n",
       "    </tr>\n",
       "    <tr>\n",
       "      <th>1990-01-03</th>\n",
       "      <td>24.68750</td>\n",
       "      <td>24.87500</td>\n",
       "      <td>24.59375</td>\n",
       "      <td>24.71875</td>\n",
       "      <td>6.649599</td>\n",
       "      <td>9464000</td>\n",
       "    </tr>\n",
       "    <tr>\n",
       "      <th>1990-01-04</th>\n",
       "      <td>24.75000</td>\n",
       "      <td>25.09375</td>\n",
       "      <td>24.71875</td>\n",
       "      <td>25.00000</td>\n",
       "      <td>6.725261</td>\n",
       "      <td>9674800</td>\n",
       "    </tr>\n",
       "    <tr>\n",
       "      <th>1990-01-05</th>\n",
       "      <td>24.96875</td>\n",
       "      <td>25.40625</td>\n",
       "      <td>24.87500</td>\n",
       "      <td>24.93750</td>\n",
       "      <td>6.708448</td>\n",
       "      <td>7570000</td>\n",
       "    </tr>\n",
       "    <tr>\n",
       "      <th>1990-01-08</th>\n",
       "      <td>24.81250</td>\n",
       "      <td>25.21875</td>\n",
       "      <td>24.81250</td>\n",
       "      <td>25.09375</td>\n",
       "      <td>6.750481</td>\n",
       "      <td>4625200</td>\n",
       "    </tr>\n",
       "  </tbody>\n",
       "</table>\n",
       "</div>"
      ],
      "text/plain": [
       "                Open      High       Low     Close  Adj Close   Volume\n",
       "Date                                                                  \n",
       "1990-01-02  23.68750  24.53125  23.62500  24.50000   6.590755  7041600\n",
       "1990-01-03  24.68750  24.87500  24.59375  24.71875   6.649599  9464000\n",
       "1990-01-04  24.75000  25.09375  24.71875  25.00000   6.725261  9674800\n",
       "1990-01-05  24.96875  25.40625  24.87500  24.93750   6.708448  7570000\n",
       "1990-01-08  24.81250  25.21875  24.81250  25.09375   6.750481  4625200"
      ]
     },
     "execution_count": 3,
     "metadata": {},
     "output_type": "execute_result"
    }
   ],
   "source": [
    "# read the data\n",
    "dataset = pd.read_csv('IBM_1990-01-01_to_2018-11-15.csv', index_col=\"Date\")\n",
    "dataset.head()"
   ]
  },
  {
   "cell_type": "code",
   "execution_count": 19,
   "metadata": {
    "scrolled": true
   },
   "outputs": [
    {
     "data": {
      "image/png": "[encoded data removed]",
      "text/plain": [
       "<Figure size 432x288 with 1 Axes>"
      ]
     },
     "metadata": {
      "needs_background": "light"
     },
     "output_type": "display_data"
    }
   ],
   "source": [
    "training_set = dataset[:'2017-12-29'].iloc[:,1:2].values\n",
    "test_set = dataset['2017-12-29':].iloc[:,1:2].values\n",
    "\n",
    "plt.plot(training_set, color='blue', label='Training set (Before 2018)')\n",
    "plt.plot(test_set, color='red', label='Test set (2018 and beyond)')\n",
    "plt.xlabel('Time')\n",
    "plt.ylabel('Price')\n",
    "plt.legend()\n",
    "plt.show()"
   ]
  },
  {
   "cell_type": "code",
   "execution_count": 24,
   "metadata": {},
   "outputs": [
    {
     "name": "stdout",
     "output_type": "stream",
     "text": [
      "[[0.06859524]\n",
      " [0.0702683 ]\n",
      " [0.07133297]\n",
      " ...\n",
      " [0.69473747]\n",
      " [0.69931252]\n",
      " [0.70223279]]\n"
     ]
    }
   ],
   "source": [
    "# scaling the training set\n",
    "sc = MinMaxScaler(feature_range=(0,1))\n",
    "training_set_scaled = sc.fit_transform(training_set)\n",
    "print (training_set_scaled)\n",
    "\n",
    "# create a data structure with 60 timesteps and 1 output, \n",
    "# so for each element of training set, there are 60 previous training set elements\n",
    "X_train = [] # feature\n",
    "y_train = [] # lable\n",
    "# 7056 is the total days between 1990-01-01 and 2017-12-29, also is the rows in the csv file\n",
    "for i in range(60,7056):\n",
    "    X_train.append(training_set_scaled[i-60:i,0])\n",
    "    y_train.append(training_set_scaled[i,0])\n",
    "X_train, y_train = np.array(X_train), np.array(y_train)\n",
    "\n",
    "X_train = np.reshape(X_train, (X_train.shape[0], X_train.shape[1], 1))"
   ]
  },
  {
   "cell_type": "code",
   "execution_count": 6,
   "metadata": {},
   "outputs": [
    {
     "name": "stdout",
     "output_type": "stream",
     "text": [
      "Epoch 1/50\n",
      "6745/6745 [==============================] - 172s 25ms/step - loss: 0.0106\n",
      "Epoch 2/50\n",
      "6745/6745 [==============================] - 170s 25ms/step - loss: 0.0047\n",
      "Epoch 3/50\n",
      "6745/6745 [==============================] - 170s 25ms/step - loss: 0.0036\n",
      "Epoch 4/50\n",
      "6745/6745 [==============================] - 168s 25ms/step - loss: 0.0030\n",
      "Epoch 5/50\n",
      "6745/6745 [==============================] - 162s 24ms/step - loss: 0.0026\n",
      "Epoch 6/50\n",
      "6745/6745 [==============================] - 165s 24ms/step - loss: 0.0024\n",
      "Epoch 7/50\n",
      "6745/6745 [==============================] - 171s 25ms/step - loss: 0.0022\n",
      "Epoch 8/50\n",
      "6745/6745 [==============================] - 169s 25ms/step - loss: 0.0020\n",
      "Epoch 9/50\n",
      "6745/6745 [==============================] - 170s 25ms/step - loss: 0.0018\n",
      "Epoch 10/50\n",
      "6745/6745 [==============================] - 168s 25ms/step - loss: 0.0019\n",
      "Epoch 11/50\n",
      "6745/6745 [==============================] - 167s 25ms/step - loss: 0.0017\n",
      "Epoch 12/50\n",
      "6745/6745 [==============================] - 167s 25ms/step - loss: 0.0016\n",
      "Epoch 13/50\n",
      "6745/6745 [==============================] - 164s 24ms/step - loss: 0.0016\n",
      "Epoch 14/50\n",
      "6745/6745 [==============================] - 165s 24ms/step - loss: 0.0015\n",
      "Epoch 15/50\n",
      "6745/6745 [==============================] - 164s 24ms/step - loss: 0.0015\n",
      "Epoch 16/50\n",
      "6745/6745 [==============================] - 163s 24ms/step - loss: 0.0014\n",
      "Epoch 17/50\n",
      "6745/6745 [==============================] - 165s 24ms/step - loss: 0.0013\n",
      "Epoch 18/50\n",
      "6745/6745 [==============================] - 165s 24ms/step - loss: 0.0013\n",
      "Epoch 19/50\n",
      "6745/6745 [==============================] - 163s 24ms/step - loss: 0.0013\n",
      "Epoch 20/50\n",
      "6745/6745 [==============================] - 163s 24ms/step - loss: 0.0012\n",
      "Epoch 21/50\n",
      "6745/6745 [==============================] - 164s 24ms/step - loss: 0.0012\n",
      "Epoch 22/50\n",
      "6745/6745 [==============================] - 163s 24ms/step - loss: 0.0012\n",
      "Epoch 23/50\n",
      "6745/6745 [==============================] - 165s 24ms/step - loss: 0.0012\n",
      "Epoch 24/50\n",
      "6745/6745 [==============================] - 164s 24ms/step - loss: 0.0011\n",
      "Epoch 25/50\n",
      "6745/6745 [==============================] - 164s 24ms/step - loss: 0.0011\n",
      "Epoch 26/50\n",
      "6745/6745 [==============================] - 163s 24ms/step - loss: 0.0011\n",
      "Epoch 27/50\n",
      "6745/6745 [==============================] - 163s 24ms/step - loss: 0.0011\n",
      "Epoch 28/50\n",
      "6745/6745 [==============================] - 164s 24ms/step - loss: 0.0011\n",
      "Epoch 29/50\n",
      "6745/6745 [==============================] - 163s 24ms/step - loss: 0.0010\n",
      "Epoch 30/50\n",
      "6745/6745 [==============================] - 162s 24ms/step - loss: 0.0010\n",
      "Epoch 31/50\n",
      "6745/6745 [==============================] - 161s 24ms/step - loss: 0.0010\n",
      "Epoch 32/50\n",
      "6745/6745 [==============================] - 162s 24ms/step - loss: 9.9447e-04\n",
      "Epoch 33/50\n",
      "6745/6745 [==============================] - 162s 24ms/step - loss: 9.9713e-04\n",
      "Epoch 34/50\n",
      "6745/6745 [==============================] - 161s 24ms/step - loss: 9.7244e-04\n",
      "Epoch 35/50\n",
      "6745/6745 [==============================] - 162s 24ms/step - loss: 0.0010\n",
      "Epoch 36/50\n",
      "6745/6745 [==============================] - 161s 24ms/step - loss: 9.6634e-04\n",
      "Epoch 37/50\n",
      "6745/6745 [==============================] - 162s 24ms/step - loss: 9.6675e-04\n",
      "Epoch 38/50\n",
      "6745/6745 [==============================] - 161s 24ms/step - loss: 9.4624e-04\n",
      "Epoch 39/50\n",
      "6745/6745 [==============================] - 161s 24ms/step - loss: 9.2580e-04\n",
      "Epoch 40/50\n",
      "6745/6745 [==============================] - 160s 24ms/step - loss: 9.2782e-04\n",
      "Epoch 41/50\n",
      "6745/6745 [==============================] - 161s 24ms/step - loss: 9.2001e-04\n",
      "Epoch 42/50\n",
      "6745/6745 [==============================] - 161s 24ms/step - loss: 9.0565e-04\n",
      "Epoch 43/50\n",
      "6745/6745 [==============================] - 160s 24ms/step - loss: 8.9687e-04\n",
      "Epoch 44/50\n",
      "6745/6745 [==============================] - 161s 24ms/step - loss: 8.9495e-04\n",
      "Epoch 45/50\n",
      "6745/6745 [==============================] - 162s 24ms/step - loss: 8.7914e-04\n",
      "Epoch 46/50\n",
      "6745/6745 [==============================] - 160s 24ms/step - loss: 8.5942e-04\n",
      "Epoch 47/50\n",
      "6745/6745 [==============================] - 161s 24ms/step - loss: 8.5605e-04\n",
      "Epoch 48/50\n",
      "6745/6745 [==============================] - 160s 24ms/step - loss: 8.7098e-04\n",
      "Epoch 49/50\n",
      "6745/6745 [==============================] - 141s 21ms/step - loss: 8.2486e-04\n",
      "Epoch 50/50\n",
      "6745/6745 [==============================] - 141s 21ms/step - loss: 8.6442e-04\n"
     ]
    },
    {
     "data": {
      "text/plain": [
       "<keras.callbacks.History at 0x2bb36c91c18>"
      ]
     },
     "execution_count": 6,
     "metadata": {},
     "output_type": "execute_result"
    }
   ],
   "source": [
    "# LSTM\n",
    "regressor = Sequential()\n",
    "# firt LSTM layer\n",
    "regressor.add(LSTM(units=50, return_sequences=True, input_shape=(X_train.shape[1],1)))\n",
    "regressor.add(Dropout(0.2))\n",
    "# second LSTM layer\n",
    "regressor.add(LSTM(units=50, return_sequences=True))\n",
    "regressor.add(Dropout(0.2))\n",
    "# third LSTM layer\n",
    "regressor.add(LSTM(units=50, return_sequences=True))\n",
    "regressor.add(Dropout(0.2))\n",
    "# fourth LSTM layer\n",
    "regressor.add(LSTM(units=50))\n",
    "regressor.add(Dropout(0.2))\n",
    "# output layer\n",
    "regressor.add(Dense(units=1))\n",
    "# compile the RNN\n",
    "regressor.compile(optimizer='rmsprop', loss='mean_squared_error')\n",
    "# fit to the training set\n",
    "regressor.fit(X_train, y_train, epochs=50, batch_size=32)"
   ]
  },
  {
   "cell_type": "code",
   "execution_count": 30,
   "metadata": {},
   "outputs": [],
   "source": [
    "# training set + test set\n",
    "dataset_total = pd.concat((dataset['High'][:'2017-12-29'], dataset['High']['2017-12-29':]), axis=0)\n",
    "inputs = dataset_total[len(dataset_total) - len(test_set) - 60:].values\n",
    "inputs = inputs.reshape(-1,1)\n",
    "inputs = sc.transform(inputs)"
   ]
  },
  {
   "cell_type": "code",
   "execution_count": 34,
   "metadata": {},
   "outputs": [],
   "source": [
    "X_test = []\n",
    "for i in range(60, 283):\n",
    "    X_test.append(inputs[i-60:i,0])\n",
    "X_test = np.array(X_test)\n",
    "X_test = np.reshape(X_test, (X_test.shape[0], X_test.shape[1],1))\n",
    "predicted_stock_price = regressor.predict(X_test)\n",
    "predicted_stock_price = sc.inverse_transform(predicted_stock_price)"
   ]
  },
  {
   "cell_type": "code",
   "execution_count": 9,
   "metadata": {},
   "outputs": [
    {
     "data": {
      "image/png": "[encoded data removed]",
      "text/plain": [
       "<Figure size 432x288 with 1 Axes>"
      ]
     },
     "metadata": {
      "needs_background": "light"
     },
     "output_type": "display_data"
    }
   ],
   "source": [
    "plt.plot(test_set, color='red', label='Real price (2018 and beyond)')\n",
    "plt.plot(predicted_stock_price, color='blue', label='predicted price (2018 and beyond)')\n",
    "plt.title('LSTM')\n",
    "plt.xlabel('Time')\n",
    "plt.ylabel('Price')\n",
    "plt.legend()\n",
    "plt.show()"
   ]
  }
 ],
 "metadata": {
  "kernelspec": {
   "display_name": "Python 3",
   "language": "python",
   "name": "python3"
  },
  "language_info": {
   "codemirror_mode": {
    "name": "ipython",
    "version": 3
   },
   "file_extension": ".py",
   "mimetype": "text/x-python",
   "name": "python",
   "nbconvert_exporter": "python",
   "pygments_lexer": "ipython3",
   "version": "3.6.7"
  }
 },
 "nbformat": 4,
 "nbformat_minor": 2
}
